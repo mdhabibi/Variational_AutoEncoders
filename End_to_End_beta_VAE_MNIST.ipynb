{
  "cells": [
    {
      "cell_type": "markdown",
      "metadata": {
        "id": "view-in-github",
        "colab_type": "text"
      },
      "source": [
        "<a href=\"https://colab.research.google.com/github/mdhabibi/Variational_AutoEncoders/blob/main/End_to_End_beta_VAE_MNIST.ipynb\" target=\"_parent\"><img src=\"https://colab.research.google.com/assets/colab-badge.svg\" alt=\"Open In Colab\"/></a>"
      ]
    },
    {
      "cell_type": "markdown",
      "metadata": {
        "id": "Tef2wM6mMHLL"
      },
      "source": [
        "# **The End-to-End $\\beta$-Variational Autoencoder (VAE) for MNIST Dataset**"
      ]
    },
    {
      "cell_type": "markdown",
      "metadata": {
        "id": "mNzLZMGXY__Q"
      },
      "source": [
        "The provided script includes the required code for the creation, training, and evaluation of a **$\\beta$-Variational Autoencoder (VAE)** using the MNIST dataset. The MNIST dataset comprises grayscale images of handwritten digits ranging from `0` to `9`, with each image having dimensions of `28` by `28` pixels. The **Keras** framework was employed in this project."
      ]
    },
    {
      "cell_type": "markdown",
      "metadata": {
        "id": "jB9Zjiy5JmAw"
      },
      "source": [
        "\n",
        "The core structure of a variational autoencoder comprises five components, as illustrated in the diagram sourced from Wikipedia.\n",
        "![VAE_Basic](https://upload.wikimedia.org/wikipedia/commons/thumb/4/4a/VAE_Basic.png/640px-VAE_Basic.png?download)\n"
      ]
    },
    {
      "cell_type": "markdown",
      "metadata": {
        "id": "3BXHRZ0LZWTZ"
      },
      "source": [
        "**Step-01: Importing required modules**"
      ]
    },
    {
      "cell_type": "code",
      "execution_count": null,
      "metadata": {
        "id": "tuEiKS0_ZDF-"
      },
      "outputs": [],
      "source": [
        "import numpy as np                          # Used for handling large data arrays\n",
        "import matplotlib.pyplot as plt             # Used for creating visualizations\n",
        "from matplotlib.colors import ListedColormap\n",
        "import seaborn as sns\n",
        "\n",
        "import keras                                # High-level neural networks API\n",
        "\n",
        "from   keras.datasets import mnist          # Dataset of hand-written digits\n",
        "# Various building blocks for neural networks\n",
        "from   keras.layers    import Conv2D, Conv2DTranspose, Input, Flatten, Dense, Lambda, Reshape\n",
        "from   keras.models    import Model         # Used for defining and training models\n",
        "\n",
        "# For better control of the training process\n",
        "from   keras.callbacks import EarlyStopping, ModelCheckpoint\n",
        "\n",
        "from   keras import backend as K\n",
        "# Note: The backend above provides a bridge between Keras and\n",
        "# its underlying computation libraries, such as TensorFlow.\n"
      ]
    },
    {
      "cell_type": "markdown",
      "metadata": {
        "id": "8in6c1RwL3qh"
      },
      "source": [
        "\n",
        "\n",
        "---\n",
        "\n",
        "\n",
        "# **(1) INPUT**\n",
        "\n",
        "\n",
        "---\n",
        "\n"
      ]
    },
    {
      "cell_type": "markdown",
      "metadata": {
        "id": "z0jZaM3MaDkG"
      },
      "source": [
        "**Step-02: Loading the MNIST dataset**"
      ]
    },
    {
      "cell_type": "code",
      "execution_count": null,
      "metadata": {
        "id": "OAHdzHAxaMRV"
      },
      "outputs": [],
      "source": [
        "(x_train, y_train), (x_test, y_test) = mnist.load_data()\n",
        "# x_train and x_test are arrays of image data, and y_train and y_test are arrays of digit labels (0-9)."
      ]
    },
    {
      "cell_type": "markdown",
      "metadata": {
        "id": "diKZTdXVaiXz"
      },
      "source": [
        "**Step-03: Data Preprocessing**"
      ]
    },
    {
      "cell_type": "code",
      "execution_count": null,
      "metadata": {
        "colab": {
          "base_uri": "https://localhost:8080/"
        },
        "id": "OqU7DkDL1avb",
        "outputId": "c1a02de4-7286-4b27-d3b4-bd05c6b2b1e0"
      },
      "outputs": [
        {
          "output_type": "stream",
          "name": "stdout",
          "text": [
            "uint8\n",
            "(60000, 28, 28)\n"
          ]
        }
      ],
      "source": [
        "# Check the type of elements in x_train.\n",
        "print(x_train.dtype)\n",
        "print(x_train.shape)"
      ]
    },
    {
      "cell_type": "markdown",
      "metadata": {
        "id": "vGkhSWkN6u2W"
      },
      "source": [
        "**Note:** If print(x_train.dtype) outputs uint8, it means that the elements in the x_train array are of the type \"unsigned 8-bit integer\". In practical terms, an uint8 data type can represent integers ranging from $0$ to $255$ (inclusive). This is a common format for image data where the intensity of each color channel (red, green, blue) in each pixel is represented as an integer from $0$ (no intensity) to $255$ (maximum intensity).\n",
        "\n",
        "So, if x_train is coming from an image dataset like MNIST, each element of x_train is an integer between $0$ and $255$ representing the grayscale intensity of a pixel in an image.\n",
        "\n",
        "Neural networks usually perform better with floating point numbers, and work better with data in a normalized form, i.e., in the range of $0-1$. Converting the data type to 'float32' allows us to perform this normalization"
      ]
    },
    {
      "cell_type": "markdown",
      "metadata": {
        "id": "FFYSa_K105Kn"
      },
      "source": [
        "1.   Converting and Normalizating"
      ]
    },
    {
      "cell_type": "code",
      "execution_count": null,
      "metadata": {
        "id": "Ew8BiFNRanIE"
      },
      "outputs": [],
      "source": [
        "x_train = x_train.astype('float32') / 255.\n",
        "x_test  = x_test .astype('float32') / 255."
      ]
    },
    {
      "cell_type": "code",
      "execution_count": null,
      "metadata": {
        "colab": {
          "base_uri": "https://localhost:8080/"
        },
        "id": "zx4iDNtoTmle",
        "outputId": "1f2ad103-2344-4e4c-d68b-9279fa5e5b1a"
      },
      "outputs": [
        {
          "output_type": "stream",
          "name": "stdout",
          "text": [
            "float32\n",
            "(60000, 28, 28)\n"
          ]
        }
      ],
      "source": [
        "# Check again the type of elements in x_train after normalization.\n",
        "print(x_train.dtype)\n",
        "print(x_train.shape)"
      ]
    },
    {
      "cell_type": "markdown",
      "metadata": {
        "id": "myagJt-A9U5H"
      },
      "source": [
        "2.   Retrieving the original width and height of the images in the MNIST dataset"
      ]
    },
    {
      "cell_type": "code",
      "execution_count": null,
      "metadata": {
        "colab": {
          "base_uri": "https://localhost:8080/"
        },
        "id": "JYt0Xu8wbYhb",
        "outputId": "9b60b4ca-a412-4cbd-ddf8-74e6b67bcba8"
      },
      "outputs": [
        {
          "output_type": "stream",
          "name": "stdout",
          "text": [
            "The MNIST train set contains 60000 images, each with dimensions:\n",
            "(width x height) = (28 x 28) pixels.\n",
            "The MNIST test set also contains 60000 images with the same dismension as the train.\n"
          ]
        }
      ],
      "source": [
        "img_num_train = x_train.shape[0]\n",
        "img_width     = x_train.shape[1]\n",
        "img_height    = x_train.shape[2]\n",
        "\n",
        "print(f\"The MNIST train set contains {img_num_train} images, each with dimensions:\"\n",
        "      f\"\\n(width x height) = ({img_width} x {img_height}) pixels.\")\n",
        "\n",
        "img_num_test  = x_test.shape[0]\n",
        "print(f\"The MNIST test set also contains {img_num_train} images with the same dismension as the train.\")"
      ]
    },
    {
      "cell_type": "markdown",
      "metadata": {
        "id": "AeRcFm3ZMdmt"
      },
      "source": [
        "3.   Reshaping Image Data for Convolutional Neural Network Input:"
      ]
    },
    {
      "cell_type": "markdown",
      "metadata": {
        "id": "kErGpVIFOAsi"
      },
      "source": [
        "**Note**: Keras, along with various other machine learning libraries, requires images to be converted to a specific format indicated by the shape (height, width, channels). In this context, the term \"channels\" refers to the number of color channels present in the image.  Hence, it is essential to modify the dimensions of the images. It is important to note that the MNIST images used in this task are grayscale, meaning they consist of only one channel."
      ]
    },
    {
      "cell_type": "code",
      "execution_count": null,
      "metadata": {
        "colab": {
          "base_uri": "https://localhost:8080/"
        },
        "id": "xslWu1R29ihZ",
        "outputId": "4b8a414c-1a5e-4e96-8ec6-f381cda9064b"
      },
      "outputs": [
        {
          "output_type": "stream",
          "name": "stdout",
          "text": [
            "Dimensions of each image that will be fed into the model are\n",
            "(img_height, img_width, num_channels)=(28, 28, 1).\n",
            "(60000, 28, 28, 1)\n"
          ]
        }
      ],
      "source": [
        "num_channels = 1\n",
        "\n",
        "# Reshaping the training and test datasets to have a 4D tensor representing the number of channels\n",
        "x_train = x_train.reshape(img_num_train, img_height, img_width, num_channels)\n",
        "x_test  = x_test .reshape(img_num_test , img_height, img_width, num_channels)\n",
        "\n",
        "# Defining the shape of the input data which will be used to configure the neural network\n",
        "input_dimensions = (img_height, img_width, num_channels)\n",
        "\n",
        "print(f\"Dimensions of each image that will be fed into the model are\"\n",
        "      f\"\\n(img_height, img_width, num_channels)={input_dimensions}.\")\n",
        "print(x_train.shape)"
      ]
    },
    {
      "cell_type": "markdown",
      "metadata": {
        "id": "6tKb-MwYdB_6"
      },
      "source": [
        "4.   Visualizing the data to see a few arbitrary images (Only for checking!)"
      ]
    },
    {
      "cell_type": "code",
      "execution_count": null,
      "metadata": {
        "colab": {
          "base_uri": "https://localhost:8080/",
          "height": 507
        },
        "id": "GqvrhPuNO4EL",
        "outputId": "775344e1-d5ad-41c0-dfaf-eb2866fb27cd"
      },
      "outputs": [
        {
          "output_type": "display_data",
          "data": {
            "text/plain": [
              "<Figure size 500x500 with 4 Axes>"
            ],
            "image/png": "[encoded data removed]"
          },
          "metadata": {}
        }
      ],
      "source": [
        "# Define indices of images to be viewed (Arbitrary indices)\n",
        "image_indices = [50, 500, 5000, 50000]\n",
        "\n",
        "# Set up the figure\n",
        "plt.figure(figsize = (5, 5))\n",
        "\n",
        "for i, img_index in enumerate(image_indices):\n",
        "    plt.subplot(2, 2, i+1)\n",
        "    plt.imshow (x_train[img_index][:,:,0], cmap = 'gray')  # default cmap in imshow is 'viridis'\n",
        "    plt.title  (f'Image index: {img_index}')\n",
        "\n",
        "plt.tight_layout()\n",
        "plt.show()\n"
      ]
    },
    {
      "cell_type": "markdown",
      "metadata": {
        "id": "_daR9cOHSv0f"
      },
      "source": [
        "\n",
        "\n",
        "---\n",
        "\n",
        "\n",
        "#**(2) Encoder**\n",
        "\n",
        "\n",
        "---\n",
        "\n"
      ]
    },
    {
      "cell_type": "markdown",
      "metadata": {
        "id": "ZK-uj7dlTIR1"
      },
      "source": [
        "In this part of VAE algorithm, I take the images, processes it with several convolutional layers, flatten the output, processe it with a dense layer, and finally output the parameters of a probability distribution: a mean and a standard deviation in a 10D latent space."
      ]
    },
    {
      "cell_type": "code",
      "execution_count": null,
      "metadata": {
        "id": "hlIvifFaTdmB"
      },
      "outputs": [],
      "source": [
        "# Setting up the latent dimension\n",
        "# The latent dimension is the number of dimensions in the space that the encoder compresses the input into.\n",
        "# Note that I have chosen 10 for dimensions here. This matches with the number of unique digits (0-9) in the dataset.\n",
        "latent_space_dim = 10"
      ]
    },
    {
      "cell_type": "markdown",
      "metadata": {
        "id": "ZFDyOjZjsvKP"
      },
      "source": [
        "*   Defining the input layer for the encoder"
      ]
    },
    {
      "cell_type": "code",
      "execution_count": null,
      "metadata": {
        "id": "xg8XzaWfVUO8"
      },
      "outputs": [],
      "source": [
        "# It creates an input layer for the encoder where the shape of the input data is specified.\n",
        "encoder_input_layer = Input(shape = input_dimensions, name = 'encoder_input_layer')"
      ]
    },
    {
      "cell_type": "markdown",
      "metadata": {
        "id": "Kzfmkbbis-1T"
      },
      "source": [
        "*   Convolution layers"
      ]
    },
    {
      "cell_type": "code",
      "execution_count": null,
      "metadata": {
        "id": "fb87gUF2Upik"
      },
      "outputs": [],
      "source": [
        "# Conv2D(filters, kernel_size, strides, padding, activation)\n",
        "\n",
        "encoder_layer = Conv2D(32, 3, padding='same', activation='relu')(encoder_input_layer)\n",
        "encoder_layer = Conv2D(64, 3, padding='same', activation='relu', strides = (2, 2))(encoder_layer)\n",
        "encoder_layer = Conv2D(64, 3, padding='same', activation='relu')(encoder_layer)\n",
        "encoder_layer = Conv2D(64, 3, padding='same', activation='relu')(encoder_layer)"
      ]
    },
    {
      "cell_type": "markdown",
      "metadata": {
        "id": "I97tJUyEVjeY"
      },
      "source": [
        "**Note:**\n",
        "The strides parameter in convolutional layers of a neural network determines the step size or the \"jump\" the filter makes across the image or volume.\n",
        " Stride is a two-element tuple that specifies the step size in the vertical and horizontal directions, respectively.\n",
        " Here, the convolutional filter moves 2 pixels at a time as it slides along the input matrix, both in the height and width dimensions"
      ]
    },
    {
      "cell_type": "code",
      "execution_count": null,
      "metadata": {
        "colab": {
          "base_uri": "https://localhost:8080/"
        },
        "id": "lKlykWQ7y1-I",
        "outputId": "a6e383cb-2239-4e7e-c001-e0208c8c4212"
      },
      "outputs": [
        {
          "output_type": "stream",
          "name": "stdout",
          "text": [
            "The shape of the tensor at the output of the encoder\n",
            "(and the input to the decoder) is: (None, 14, 14, 64)\n"
          ]
        }
      ],
      "source": [
        "# The shape of the tensor x (i.e., conv_shape) is stored because it will be used later\n",
        "# in the code when building the decoder part of the VAE.\n",
        "# This allows the decoder to start its reconstruction process from a tensor that\n",
        "# has the same shape as the output tensor of the encoder.\n",
        "\n",
        "encoder_output_shape = K.int_shape(encoder_layer)\n",
        "\n",
        "print(f\"The shape of the tensor at the output of the encoder\"\n",
        "      f\"\\n(and the input to the decoder) is: {encoder_output_shape}\")"
      ]
    },
    {
      "cell_type": "markdown",
      "metadata": {
        "id": "evLfG0jrcVku"
      },
      "source": [
        "**Note:** The number of batch size here is specified by 'None' which simply allows us to specify this later in the training step.\n",
        "\n",
        " This shape tells us that for each batch of input images, the encoder will produce a tensor where each image is represented as a 14x14x64 tensor (a 3D volume of 64 feature maps, each of size 14x14)."
      ]
    },
    {
      "cell_type": "markdown",
      "metadata": {
        "id": "JUDN0Q-ytNhu"
      },
      "source": [
        "*   Flattening the 3D output from the convolutional layers"
      ]
    },
    {
      "cell_type": "code",
      "execution_count": null,
      "metadata": {
        "colab": {
          "base_uri": "https://localhost:8080/"
        },
        "id": "YlOOK0wxtVKu",
        "outputId": "a2cf8cf1-da84-4741-c152-1bcb6695a695"
      },
      "outputs": [
        {
          "output_type": "stream",
          "name": "stdout",
          "text": [
            "(None, 12544)\n"
          ]
        }
      ],
      "source": [
        "# The output from the convolutional layers is a 3D tensor (height, width, channels) for each image.\n",
        "# However, the following layers (dense layers) expect input as a 1D tensor per image in the batch.\n",
        "# Therefore, we need to flatten the 3D tensor into a 1D tensor using Flatten()(encoder_stage4).\n",
        "\n",
        "encoder_layer = Flatten()(encoder_layer)\n",
        "print(encoder_layer.shape)"
      ]
    },
    {
      "cell_type": "markdown",
      "metadata": {
        "id": "4iLSxtF7tXJl"
      },
      "source": [
        "*   Adding a Dense layer"
      ]
    },
    {
      "cell_type": "code",
      "execution_count": null,
      "metadata": {
        "colab": {
          "base_uri": "https://localhost:8080/"
        },
        "id": "G6tN_b2u0UYd",
        "outputId": "f4baba3d-3e82-4938-fd88-c7b38ded6d52"
      },
      "outputs": [
        {
          "output_type": "stream",
          "name": "stdout",
          "text": [
            "(None, 32)\n"
          ]
        }
      ],
      "source": [
        "# After extracting features through convolutional layers and flattening, we use a Dense layer.\n",
        "# This layer learns to recognize patterns by combining the features extracted from the previous layers.\n",
        "# The Dense layer is a type of layer that performs a linear operation on its input,\n",
        "# followed by an activation function.\n",
        "\n",
        "encoder_layer = Dense(32, activation = 'relu')(encoder_layer)\n",
        "print(encoder_layer.shape)"
      ]
    },
    {
      "cell_type": "markdown",
      "metadata": {
        "id": "nKonB3D7ulGj"
      },
      "source": [
        "*   Output layer\n",
        "\n",
        " A crucial transition between the encoder and the latent space (the final step of the encoder and the first step of defining the latent space in a VAE)."
      ]
    },
    {
      "cell_type": "markdown",
      "metadata": {
        "id": "DmwWvZT_qM2w"
      },
      "source": [
        "**Note:** The purpose of the VAE is not just to encode and then decode the input. It is to encode the input into a representation that **approximates** a specified probability distribution, usually a normal distribution. The mean and standard deviation can represent parameters of a normal distribution. This normal distribution is used to generate the encoded representation of the input data, and is the distribution we want the encoded representations to approximate."
      ]
    },
    {
      "cell_type": "code",
      "execution_count": null,
      "metadata": {
        "id": "VMoM69fM2eKM"
      },
      "outputs": [],
      "source": [
        "# Creating two Dense layers to generate the parameters of the probability distribution of the latent space.\n",
        "# One Dense layer (mu_layer) for the means, and another Dense layer (sigma_layer) for the standard deviations.\n",
        "\n",
        "mu_layer    = Dense(latent_space_dim, name = 'latent_mu')(encoder_layer)\n",
        "\n",
        "sigma_layer = Dense(latent_space_dim, name = 'latent_sigma')(encoder_layer)\n",
        "\n",
        "#print(f\"mu_layer shape: {mu_layer.shape}, sigma_layer shape: {sigma_layer.shape}\")"
      ]
    },
    {
      "cell_type": "markdown",
      "metadata": {
        "id": "J_g1jAP-nWbt"
      },
      "source": [
        "\n",
        "\n",
        "---\n",
        "\n",
        "\n",
        "#**(3) Latent space:**\n",
        "\n",
        "\n",
        "---\n",
        "\n"
      ]
    },
    {
      "cell_type": "markdown",
      "metadata": {
        "id": "Js5LqHjl52Cp"
      },
      "source": [
        "**Reparameterization trick**"
      ]
    },
    {
      "cell_type": "markdown",
      "metadata": {
        "id": "VvxnXCYL6TAb"
      },
      "source": [
        "When we want to sample a point from the normal (Gaussian) distribution defined by $\\mu$ and $\\sigma$, we use a random process. This random process is not differentiable, which means we can't compute gradients through it to calculate loss function. And since backpropagation, the mechanism by which neural networks are trained, requires computing gradients, this presents a problem.\n",
        "\n",
        "The reparameterization trick is a clever way around this problem. Instead of directly sampling from the distribution defined by $\\mu$ and $\\sigma$, we sample (choose a random number) from a standard normal distribution ($\\mu=0$ and $\\sigma=1$), and then we shift (add $\\mu$) and scale (multiply by $\\sigma$) this sampled point. This new method for generating $z$, ($z = \\mu + \\sigma * \\epsilon$), is differentiable with respect to $\\mu$ and $\\sigma$ because it does not involve sampling $\\mu$ and $\\sigma$ directly."
      ]
    },
    {
      "cell_type": "code",
      "execution_count": null,
      "metadata": {
        "id": "D2CMkpcR55nz"
      },
      "outputs": [],
      "source": [
        "def sample_z(args):\n",
        "    \"\"\"Generate a sample from the Gaussian distribution defined by args=(mu, sigma).\n",
        "\n",
        "    Args:\n",
        "    mu_layer:    The mean of the Gaussian distribution.\n",
        "    sigma_layer: The log standard deviation of the Gaussian distribution.\n",
        "\n",
        "    Returns:\n",
        "    A sample from the Gaussian distribution.\n",
        "    \"\"\"\n",
        "    mu_layer, sigma_layer = args\n",
        "    batch_size = K.shape(mu_layer)[0]\n",
        "    # print(batch_size)\n",
        "    dim = K.int_shape(mu_layer)[1]\n",
        "\n",
        "    # Generate a random sample from a standard normal distribution with the same shape\n",
        "    epsilon = K.random_normal(shape = (batch_size, dim))\n",
        "\n",
        "    # Scale and shift the sample by mu and sigma to create a sample from the original Gaussian distribution\n",
        "    return mu_layer + K.exp(sigma_layer / 2) * epsilon\n"
      ]
    },
    {
      "cell_type": "markdown",
      "metadata": {
        "id": "oJXMRx_kKAP-"
      },
      "source": [
        "**Creating a new layer z:**"
      ]
    },
    {
      "cell_type": "code",
      "execution_count": null,
      "metadata": {
        "id": "J7kh82bBKP8l"
      },
      "outputs": [],
      "source": [
        "z = Lambda(sample_z, output_shape = (latent_space_dim, ), name = 'z')([mu_layer, sigma_layer])"
      ]
    },
    {
      "cell_type": "markdown",
      "metadata": {
        "id": "05IeCK7vLTy9"
      },
      "source": [
        "**Note:** Here Lambda is not the lambda function from Python's standard library. Instead, it's a type of layer in Keras, specifically keras.layers.Lambda. It's used to apply an arbitrary function to the output of a layer.\n",
        "\n",
        "\n",
        "\n",
        "---\n",
        "\n",
        "\n",
        "\n",
        "---\n",
        "\n"
      ]
    },
    {
      "cell_type": "markdown",
      "metadata": {
        "id": "uASesxo1LmOk"
      },
      "source": [
        "#**Encoder Model**"
      ]
    },
    {
      "cell_type": "markdown",
      "metadata": {
        "id": "vdSS761oNoGb"
      },
      "source": [
        "To encapsulate the encoder part of the VAE into a standalone model that can be trained and used independently."
      ]
    },
    {
      "cell_type": "code",
      "execution_count": null,
      "metadata": {
        "colab": {
          "base_uri": "https://localhost:8080/"
        },
        "id": "9cCZDoshJ3iH",
        "outputId": "4d52b074-d7f1-41f0-aa76-6364fdbbfc04"
      },
      "outputs": [
        {
          "output_type": "stream",
          "name": "stderr",
          "text": [
            "WARNING:tensorflow:Compiled the loaded model, but the compiled metrics have yet to be built. `model.compile_metrics` will be empty until you train or evaluate the model.\n"
          ]
        }
      ],
      "source": [
        "# Model(encoder_input_layer, output, name)\n",
        "encoder_model = Model(encoder_input_layer, [mu_layer, sigma_layer, z], name = 'encoder_model')\n",
        "\n",
        "# Save the model\n",
        "encoder_model.save('encoder_model_MNIST.h5')"
      ]
    },
    {
      "cell_type": "code",
      "execution_count": null,
      "metadata": {
        "colab": {
          "base_uri": "https://localhost:8080/"
        },
        "id": "dQGAA3BLOm0q",
        "outputId": "cb22fd9e-8785-46fc-f014-2ff7f1197526"
      },
      "outputs": [
        {
          "output_type": "stream",
          "name": "stdout",
          "text": [
            "Model: \"encoder_model\"\n",
            "__________________________________________________________________________________________________\n",
            " Layer (type)                   Output Shape         Param #     Connected to                     \n",
            "==================================================================================================\n",
            " encoder_input_layer (InputLaye  [(None, 28, 28, 1)]  0          []                               \n",
            " r)                                                                                               \n",
            "                                                                                                  \n",
            " conv2d (Conv2D)                (None, 28, 28, 32)   320         ['encoder_input_layer[0][0]']    \n",
            "                                                                                                  \n",
            " conv2d_1 (Conv2D)              (None, 14, 14, 64)   18496       ['conv2d[0][0]']                 \n",
            "                                                                                                  \n",
            " conv2d_2 (Conv2D)              (None, 14, 14, 64)   36928       ['conv2d_1[0][0]']               \n",
            "                                                                                                  \n",
            " conv2d_3 (Conv2D)              (None, 14, 14, 64)   36928       ['conv2d_2[0][0]']               \n",
            "                                                                                                  \n",
            " flatten (Flatten)              (None, 12544)        0           ['conv2d_3[0][0]']               \n",
            "                                                                                                  \n",
            " dense (Dense)                  (None, 32)           401440      ['flatten[0][0]']                \n",
            "                                                                                                  \n",
            " latent_mu (Dense)              (None, 10)           330         ['dense[0][0]']                  \n",
            "                                                                                                  \n",
            " latent_sigma (Dense)           (None, 10)           330         ['dense[0][0]']                  \n",
            "                                                                                                  \n",
            " z (Lambda)                     (None, 10)           0           ['latent_mu[0][0]',              \n",
            "                                                                  'latent_sigma[0][0]']           \n",
            "                                                                                                  \n",
            "==================================================================================================\n",
            "Total params: 494,772\n",
            "Trainable params: 494,772\n",
            "Non-trainable params: 0\n",
            "__________________________________________________________________________________________________\n",
            "None\n"
          ]
        }
      ],
      "source": [
        "print(encoder_model.summary())"
      ]
    },
    {
      "cell_type": "markdown",
      "metadata": {
        "id": "uyjcFe6VPULU"
      },
      "source": [
        "**Note:**\n",
        "\n",
        "\n",
        "\n",
        "*   Param # column shows the number of trainable parameters for each layer. The\n",
        "number of parameters is given by $(n*m*l+1)*k$ where $n$ and $m$ are the dimensions of the filter size, $l$ is the number of input channels to the layer, and $k$ is the number of filters in the layer. The $\"+1\"$ is for the bias term for each filter. So, for instance, for the first Conv2D layer in my model (conv2d), we have $(3*3*1+1)*32 = 320$ parameters, since the layer uses $32$ filters of size $3\\times 3$, and the input has $1$ channel."
      ]
    },
    {
      "cell_type": "markdown",
      "metadata": {
        "id": "otOjTcIdRQkx"
      },
      "source": [
        "\n",
        "\n",
        "*   The number of parameters in a Dense layer is given by $(n+1)*m$, where $n$ is the number of neurons in the previous layer (or the number of elements in the input vector for the first Dense layer following the input), and $m$ is the number of neurons in the Dense layer. The $\"+1\"$ is for the bias term for each neuron. So, for the Dense layer in your model (dense), there are $(12544+1)*32 = 401440$ parameters."
      ]
    },
    {
      "cell_type": "markdown",
      "metadata": {
        "id": "dgQC_TiTR3nQ"
      },
      "source": [
        "\n",
        "\n",
        "*   Input, Flatten, and Lambda layers: These types of layers don't have any\n",
        "trainable parameters, hence the $'0'$ in the Param # column."
      ]
    },
    {
      "cell_type": "markdown",
      "metadata": {
        "id": "w3dWrjpCSWmY"
      },
      "source": [
        "\n",
        "\n",
        "---\n",
        "\n",
        "\n",
        "#**(4) Decoder**\n",
        "\n",
        "\n",
        "---\n",
        "\n"
      ]
    },
    {
      "cell_type": "code",
      "execution_count": null,
      "metadata": {
        "id": "Oo22yAZSThwQ"
      },
      "outputs": [],
      "source": [
        "# It creates an input layer for the decoder where the shape of the input data is specified by the latent space dimension.\n",
        "decoder_input_layer = Input(shape = (latent_space_dim, ), name = 'decoder_input_layer')"
      ]
    },
    {
      "cell_type": "markdown",
      "metadata": {
        "id": "MXDtSX5dUWpU"
      },
      "source": [
        "\n",
        "\n",
        "*   The first layer of decoding\n",
        "\n"
      ]
    },
    {
      "cell_type": "code",
      "execution_count": null,
      "metadata": {
        "colab": {
          "base_uri": "https://localhost:8080/"
        },
        "id": "2zIPClsMUb1J",
        "outputId": "5d9b3703-6bab-4725-c9f2-49847d6524d1"
      },
      "outputs": [
        {
          "output_type": "stream",
          "name": "stdout",
          "text": [
            "Shape of the initial dense layer in the decoder: (None, 12544)\n"
          ]
        }
      ],
      "source": [
        "# The Dense layer performs a linear operation on the layer's input,\n",
        "# transforming it into a space of dimension equal to the number of its units.\n",
        "num_units = encoder_output_shape[1] * encoder_output_shape[2] * encoder_output_shape[3]\n",
        "decoder_dense_layer = Dense(num_units, activation='relu')(decoder_input_layer)\n",
        "print(f\"Shape of the initial dense layer in the decoder: {decoder_dense_layer.shape}\")"
      ]
    },
    {
      "cell_type": "markdown",
      "metadata": {
        "id": "JPtC_FfuVni-"
      },
      "source": [
        "\n",
        "\n",
        "*   Reshaping\n",
        "\n",
        "\n"
      ]
    },
    {
      "cell_type": "markdown",
      "metadata": {
        "id": "c1QDLm1XV3Be"
      },
      "source": [
        "\n",
        "In this line of code, the output of the Dense layer in the decoder, which is a flat vector, is reshaped back to the shape of the output from the last Conv2D layer in the encoder part."
      ]
    },
    {
      "cell_type": "code",
      "execution_count": null,
      "metadata": {
        "colab": {
          "base_uri": "https://localhost:8080/"
        },
        "id": "CaX5E-aVVtf_",
        "outputId": "fa22aeef-38d0-464f-8d2c-94b4e072e29f"
      },
      "outputs": [
        {
          "output_type": "stream",
          "name": "stdout",
          "text": [
            "Shape of the reshaped layer in the decoder: (None, 14, 14, 64)\n"
          ]
        }
      ],
      "source": [
        "reshape_dims = (encoder_output_shape[1], encoder_output_shape[2], encoder_output_shape[3])\n",
        "decoder_reshape_layer = Reshape(reshape_dims)(decoder_dense_layer)\n",
        "print(f\"Shape of the reshaped layer in the decoder: {decoder_reshape_layer.shape}\")\n",
        "# Compare it with dimension of conv2d_3 (Conv2D)"
      ]
    },
    {
      "cell_type": "markdown",
      "metadata": {
        "id": "EHC4uuMnWEJG"
      },
      "source": [
        "**Note:** The reshaping is necessary because after this point, the decoder will use convolutional layers (likely Conv2DTranspose or UpSampling2D + Conv2D layers) to progressively upsample the data back to the shape of the original input image. These convolutional layers require input data with the same number of dimensions as their output data, which is why the output of the Dense layer needs to be reshaped."
      ]
    },
    {
      "cell_type": "markdown",
      "metadata": {
        "id": "Rt49TG0SWgxn"
      },
      "source": [
        "\n",
        "\n",
        "*   Deconvolution\n",
        "\n"
      ]
    },
    {
      "cell_type": "code",
      "execution_count": null,
      "metadata": {
        "colab": {
          "base_uri": "https://localhost:8080/"
        },
        "id": "CZnkFJHhXgo9",
        "outputId": "c1a7d28f-916a-49f1-98b3-bdccd4add5ea"
      },
      "outputs": [
        {
          "output_type": "stream",
          "name": "stdout",
          "text": [
            "Shape of the first upsample layer in the decoder: (None, 28, 28, 32)\n"
          ]
        }
      ],
      "source": [
        "# Define the configuration for the first upsampling layer in the decoder\n",
        "upsample_layer_config = {'filters': 32,\n",
        "                         'kernel_size': 3,\n",
        "                         'padding': 'same',\n",
        "                         'activation': 'relu',\n",
        "                         'strides': (2, 2)\n",
        "                         }\n",
        "\n",
        "# Add the first upsampling layer to the decoder using the above configuration\n",
        "decoder_upsample_layer = Conv2DTranspose(**upsample_layer_config)(decoder_reshape_layer)\n",
        "print(f\"Shape of the first upsample layer in the decoder: {decoder_upsample_layer.shape}\")"
      ]
    },
    {
      "cell_type": "markdown",
      "metadata": {
        "id": "ENURgUHDXtgl"
      },
      "source": [
        "\n",
        "\n",
        "*   The final layer of the decoder part of the autoencoder\n",
        "\n"
      ]
    },
    {
      "cell_type": "markdown",
      "metadata": {
        "id": "YX6-AlHBXd3f"
      },
      "source": [
        "After this layer, the decoder output will have the same dimensions as the original input to the encoder (assuming that's what num_channels equals)."
      ]
    },
    {
      "cell_type": "code",
      "execution_count": null,
      "metadata": {
        "colab": {
          "base_uri": "https://localhost:8080/"
        },
        "id": "1dBfYntkYN9M",
        "outputId": "14cd0ef2-03da-46e1-b381-d9d8d17b7430"
      },
      "outputs": [
        {
          "output_type": "stream",
          "name": "stdout",
          "text": [
            "Shape of the output layer in the decoder: (None, 28, 28, 1)\n"
          ]
        }
      ],
      "source": [
        "# Define the configuration for the final layer of the decoder\n",
        "decoder_output_config = {'filters': num_channels,\n",
        "                         'kernel_size': 3,\n",
        "                         'padding': 'same',\n",
        "                         'activation': 'sigmoid',\n",
        "                         'name': 'decoder_output'\n",
        "                         }\n",
        "\n",
        "# Add the final layer to the decoder\n",
        "decoder_output_layer = Conv2DTranspose(**decoder_output_config)(decoder_upsample_layer)\n",
        "print(f\"Shape of the output layer in the decoder: {decoder_output_layer.shape}\")"
      ]
    },
    {
      "cell_type": "markdown",
      "metadata": {
        "id": "7pbWcQ-dYOgN"
      },
      "source": [
        "**Note:** The activation function used in the final layer of decoder is 'sigmoid', which squashes the output values between $0$ and $1$. This is often used in the last layer of a model if the model is expected to predict pixel values in an image, which usually lie in the range of $0$ to $1$ or $0$ to $255$.\n",
        "\n",
        "\n",
        "\n",
        "---\n",
        "\n",
        "\n",
        "\n",
        "---\n",
        "\n"
      ]
    },
    {
      "cell_type": "markdown",
      "metadata": {
        "id": "9d7awhzIZQKi"
      },
      "source": [
        "#**Decoder model**"
      ]
    },
    {
      "cell_type": "code",
      "execution_count": null,
      "metadata": {
        "colab": {
          "base_uri": "https://localhost:8080/"
        },
        "id": "wIDYO5M7ZR3m",
        "outputId": "c3b250e6-04d5-460d-aaed-a79e7e5c35dd"
      },
      "outputs": [
        {
          "output_type": "stream",
          "name": "stderr",
          "text": [
            "WARNING:tensorflow:Compiled the loaded model, but the compiled metrics have yet to be built. `model.compile_metrics` will be empty until you train or evaluate the model.\n"
          ]
        }
      ],
      "source": [
        "decoder_model = Model(decoder_input_layer, decoder_output_layer, name = 'decoder_model')\n",
        "\n",
        "# Save the model\n",
        "decoder_model.save('decoder_model_MNIST.h5')"
      ]
    },
    {
      "cell_type": "code",
      "execution_count": null,
      "metadata": {
        "colab": {
          "base_uri": "https://localhost:8080/"
        },
        "id": "hSCD94XEYL8U",
        "outputId": "ea684f24-edb2-4e32-a5f4-1b398d6279e0"
      },
      "outputs": [
        {
          "output_type": "stream",
          "name": "stdout",
          "text": [
            "Model: \"decoder_model\"\n",
            "_________________________________________________________________\n",
            " Layer (type)                Output Shape              Param #   \n",
            "=================================================================\n",
            " decoder_input_layer (InputL  [(None, 10)]             0         \n",
            " ayer)                                                           \n",
            "                                                                 \n",
            " dense_1 (Dense)             (None, 12544)             137984    \n",
            "                                                                 \n",
            " reshape (Reshape)           (None, 14, 14, 64)        0         \n",
            "                                                                 \n",
            " conv2d_transpose (Conv2DTra  (None, 28, 28, 32)       18464     \n",
            " nspose)                                                         \n",
            "                                                                 \n",
            " decoder_output (Conv2DTrans  (None, 28, 28, 1)        289       \n",
            " pose)                                                           \n",
            "                                                                 \n",
            "=================================================================\n",
            "Total params: 156,737\n",
            "Trainable params: 156,737\n",
            "Non-trainable params: 0\n",
            "_________________________________________________________________\n"
          ]
        }
      ],
      "source": [
        "decoder_model.summary()"
      ]
    },
    {
      "cell_type": "markdown",
      "metadata": {
        "id": "OM47GuzfZ6XQ"
      },
      "source": [
        "\n",
        "\n",
        "---\n",
        "\n",
        "\n",
        "#**(5) Output**\n",
        "\n",
        "\n",
        "---\n",
        "\n"
      ]
    },
    {
      "cell_type": "code",
      "execution_count": null,
      "metadata": {
        "colab": {
          "base_uri": "https://localhost:8080/"
        },
        "id": "wOKNb66wZ2tV",
        "outputId": "9135ad7b-6fc6-4354-e07a-af44cf0e0918"
      },
      "outputs": [
        {
          "output_type": "stream",
          "name": "stdout",
          "text": [
            "The type  of 'reconstructed_output' is: <class 'keras.engine.keras_tensor.KerasTensor'>\n",
            "The shape of 'reconstructed_output' is: (None, 28, 28, 1)\n"
          ]
        }
      ],
      "source": [
        "reconstructed_output = decoder_model(z)\n",
        "# reconstructed_output is the output of the VAE. It's the reconstruction of\n",
        "# the original input data after being encoded to a latent representation and then decoded.\n",
        "\n",
        "print(f\"The type  of 'reconstructed_output' is: {type(reconstructed_output)}\")\n",
        "print(f\"The shape of 'reconstructed_output' is: {reconstructed_output.shape}\")"
      ]
    },
    {
      "cell_type": "markdown",
      "metadata": {
        "id": "rJyg6ivyagFu"
      },
      "source": [
        "\n",
        "\n",
        "---\n",
        "\n",
        "\n",
        "#**Loss function**\n",
        "\n",
        "\n",
        "---\n",
        "\n"
      ]
    },
    {
      "cell_type": "code",
      "execution_count": null,
      "metadata": {
        "id": "B_IhOUBAYaol"
      },
      "outputs": [],
      "source": [
        "class VAELossLayer(keras.layers.Layer):\n",
        "    \"\"\"\n",
        "    Custom Keras layer that calculates the loss (reconstruction + KL divergence)\n",
        "    of the Variational AutoEncoder (VAE)\n",
        "    \"\"\"\n",
        "\n",
        "    def calculate_loss(self, original_input, reconstructed_output, mu, sigma):\n",
        "        \"\"\"\n",
        "        Calculates VAE loss, which is the sum of the reconstruction loss and KL-divergence loss\n",
        "        \"\"\"\n",
        "        original_input  = K.flatten(original_input)\n",
        "        reconstructed_output = K.flatten(reconstructed_output)\n",
        "\n",
        "        # Reconstruction loss - binary crossentropy is used as the final layer uses sigmoid activation\n",
        "        reconstruction_loss = keras.metrics.binary_crossentropy(original_input, reconstructed_output)\n",
        "\n",
        "        # KL divergence loss - acts as a regularizer- beta is changable\n",
        "        #kl_loss = -0.5 * K.mean(1 + sigma - K.square(mu) - K.exp(sigma), axis=-1)\n",
        "        #kl_loss = beta * K.mean(-0.5 * (1 + sigma - K.square(mu) - K.exp(sigma)), axis=-1)\n",
        "        kl_loss = -5e-4 * K.mean(1 + sigma - K.square(mu) - K.exp(sigma), axis=-1)\n",
        "\n",
        "        return K.mean(reconstruction_loss + kl_loss)\n",
        "\n",
        "    def call(self, inputs):\n",
        "        \"\"\"\n",
        "        Computes the loss and adds it to the layer's losses\n",
        "        \"\"\"\n",
        "        original_input = inputs[0]\n",
        "        reconstructed_output = inputs[1]\n",
        "        mu = inputs[2]\n",
        "        sigma = inputs[3]\n",
        "\n",
        "        loss = self.calculate_loss(original_input, reconstructed_output, mu, sigma)\n",
        "        self.add_loss(loss, inputs = inputs)\n",
        "\n",
        "        # Returns the original layer inputs\n",
        "        return original_input\n"
      ]
    },
    {
      "cell_type": "markdown",
      "metadata": {
        "id": "yxu7nWDBZJbU"
      },
      "source": [
        "**Adding the VAE Loss computation layer to the model**"
      ]
    },
    {
      "cell_type": "code",
      "execution_count": null,
      "metadata": {
        "colab": {
          "base_uri": "https://localhost:8080/"
        },
        "id": "6c3LTBC3ZP8z",
        "outputId": "836f8193-3961-41f8-dc5a-8c1bacc7d1ae"
      },
      "outputs": [
        {
          "output_type": "stream",
          "name": "stdout",
          "text": [
            "The type of 'vae_loss_output' is: <class 'keras.engine.keras_tensor.KerasTensor'>\n",
            "The shape of 'vae_loss_output' is: (None, 28, 28, 1)\n"
          ]
        }
      ],
      "source": [
        "vae_loss_output = VAELossLayer()([encoder_input_layer, reconstructed_output, mu_layer, sigma_layer])\n",
        "\n",
        "print(f\"The type of 'vae_loss_output' is: {type(vae_loss_output)}\")\n",
        "print(f\"The shape of 'vae_loss_output' is: {vae_loss_output.shape}\")"
      ]
    },
    {
      "cell_type": "markdown",
      "metadata": {
        "id": "FCV1_XnGgZtf"
      },
      "source": [
        "\n",
        "\n",
        "---\n",
        "#**Final VAE Model Creation**\n",
        "\n",
        "\n",
        "---\n",
        "\n",
        "\n",
        "\n"
      ]
    },
    {
      "cell_type": "code",
      "execution_count": null,
      "metadata": {
        "colab": {
          "base_uri": "https://localhost:8080/"
        },
        "id": "EUcNRC3bbnLx",
        "outputId": "058153cb-5d4e-44f0-fa84-adafb9c81862"
      },
      "outputs": [
        {
          "output_type": "stream",
          "name": "stderr",
          "text": [
            "WARNING:tensorflow:Compiled the loaded model, but the compiled metrics have yet to be built. `model.compile_metrics` will be empty until you train or evaluate the model.\n"
          ]
        }
      ],
      "source": [
        "final_vae_model = Model(encoder_input_layer, vae_loss_output, name = 'vae_model')\n",
        "\n",
        "# Save the model\n",
        "final_vae_model.save('final_vae_model_MNIST.h5')"
      ]
    },
    {
      "cell_type": "markdown",
      "metadata": {
        "id": "hDAGonyobvdN"
      },
      "source": [
        "**Compile VAE**\n"
      ]
    },
    {
      "cell_type": "code",
      "execution_count": null,
      "metadata": {
        "id": "TalMlce8bu1E"
      },
      "outputs": [],
      "source": [
        "final_vae_model.compile(optimizer = 'adam', loss = None)"
      ]
    },
    {
      "cell_type": "code",
      "execution_count": null,
      "metadata": {
        "colab": {
          "base_uri": "https://localhost:8080/"
        },
        "id": "cuSEIKsah18m",
        "outputId": "9f0b7e89-93ff-46c1-974f-872f9789ed56"
      },
      "outputs": [
        {
          "output_type": "stream",
          "name": "stdout",
          "text": [
            "Model: \"vae_model\"\n",
            "__________________________________________________________________________________________________\n",
            " Layer (type)                   Output Shape         Param #     Connected to                     \n",
            "==================================================================================================\n",
            " encoder_input_layer (InputLaye  [(None, 28, 28, 1)]  0          []                               \n",
            " r)                                                                                               \n",
            "                                                                                                  \n",
            " conv2d (Conv2D)                (None, 28, 28, 32)   320         ['encoder_input_layer[0][0]']    \n",
            "                                                                                                  \n",
            " conv2d_1 (Conv2D)              (None, 14, 14, 64)   18496       ['conv2d[0][0]']                 \n",
            "                                                                                                  \n",
            " conv2d_2 (Conv2D)              (None, 14, 14, 64)   36928       ['conv2d_1[0][0]']               \n",
            "                                                                                                  \n",
            " conv2d_3 (Conv2D)              (None, 14, 14, 64)   36928       ['conv2d_2[0][0]']               \n",
            "                                                                                                  \n",
            " flatten (Flatten)              (None, 12544)        0           ['conv2d_3[0][0]']               \n",
            "                                                                                                  \n",
            " dense (Dense)                  (None, 32)           401440      ['flatten[0][0]']                \n",
            "                                                                                                  \n",
            " latent_mu (Dense)              (None, 10)           330         ['dense[0][0]']                  \n",
            "                                                                                                  \n",
            " latent_sigma (Dense)           (None, 10)           330         ['dense[0][0]']                  \n",
            "                                                                                                  \n",
            " z (Lambda)                     (None, 10)           0           ['latent_mu[0][0]',              \n",
            "                                                                  'latent_sigma[0][0]']           \n",
            "                                                                                                  \n",
            " decoder_model (Functional)     (None, 28, 28, 1)    156737      ['z[0][0]']                      \n",
            "                                                                                                  \n",
            " vae_loss_layer (VAELossLayer)  (None, 28, 28, 1)    0           ['encoder_input_layer[0][0]',    \n",
            "                                                                  'decoder_model[0][0]',          \n",
            "                                                                  'latent_mu[0][0]',              \n",
            "                                                                  'latent_sigma[0][0]']           \n",
            "                                                                                                  \n",
            "==================================================================================================\n",
            "Total params: 651,509\n",
            "Trainable params: 651,509\n",
            "Non-trainable params: 0\n",
            "__________________________________________________________________________________________________\n"
          ]
        }
      ],
      "source": [
        "final_vae_model.summary()"
      ]
    },
    {
      "cell_type": "markdown",
      "metadata": {
        "id": "VSW_pGrNbugJ"
      },
      "source": [
        "\n",
        "\n",
        "---\n",
        "\n",
        "\n",
        "#**Training the Variational Autoencoder**\n",
        "\n",
        "\n",
        "---\n",
        "\n",
        "\n"
      ]
    },
    {
      "cell_type": "code",
      "execution_count": null,
      "metadata": {
        "colab": {
          "base_uri": "https://localhost:8080/"
        },
        "id": "gkduwjGAcC_Q",
        "outputId": "1460f375-605a-49c3-e503-eb42675ef873"
      },
      "outputs": [
        {
          "output_type": "stream",
          "name": "stdout",
          "text": [
            "Epoch 1/10\n",
            "1500/1500 [==============================] - 24s 7ms/step - loss: 0.1648 - val_loss: 0.1313\n",
            "Epoch 2/10\n",
            "1500/1500 [==============================] - 10s 7ms/step - loss: 0.1264 - val_loss: 0.1232\n",
            "Epoch 3/10\n",
            "1500/1500 [==============================] - 10s 7ms/step - loss: 0.1207 - val_loss: 0.1196\n",
            "Epoch 4/10\n",
            "1500/1500 [==============================] - 10s 6ms/step - loss: 0.1176 - val_loss: 0.1171\n",
            "Epoch 5/10\n",
            "1500/1500 [==============================] - 10s 6ms/step - loss: 0.1132 - val_loss: 0.1122\n",
            "Epoch 6/10\n",
            "1500/1500 [==============================] - 11s 7ms/step - loss: 0.1099 - val_loss: 0.1105\n",
            "Epoch 7/10\n",
            "1500/1500 [==============================] - 10s 7ms/step - loss: 0.1082 - val_loss: 0.1091\n",
            "Epoch 8/10\n",
            "1500/1500 [==============================] - 12s 8ms/step - loss: 0.1070 - val_loss: 0.1081\n",
            "Epoch 9/10\n",
            "1500/1500 [==============================] - 10s 7ms/step - loss: 0.1060 - val_loss: 0.1078\n",
            "Epoch 10/10\n",
            "1500/1500 [==============================] - 10s 7ms/step - loss: 0.1051 - val_loss: 0.1075\n"
          ]
        }
      ],
      "source": [
        "# To have more control over training, I've added callbacks that terminate training\n",
        "# if the validation loss doesn't improve after 5 epochs and save the best model weights.\n",
        "callbacks = [\n",
        "    EarlyStopping(monitor = 'val_loss', patience = 5),\n",
        "    ModelCheckpoint('best_model.h5', monitor='val_loss', save_best_only = True)\n",
        "]\n",
        "\n",
        "history = final_vae_model.fit(x_train, None, epochs = 10, batch_size = 32, validation_split = 0.2, callbacks=callbacks)\n",
        "\n",
        "#history = final_vae_model.fit(x_train, None, epochs = 10, batch_size = 32, validation_split = 0.2)"
      ]
    },
    {
      "cell_type": "markdown",
      "metadata": {
        "id": "d3u_ahBEqYBE"
      },
      "source": [
        "\n",
        "\n",
        "---\n",
        "\n",
        "\n",
        "#**Visualization**\n",
        "\n",
        "\n",
        "---\n",
        "\n"
      ]
    },
    {
      "cell_type": "code",
      "execution_count": null,
      "metadata": {
        "colab": {
          "base_uri": "https://localhost:8080/"
        },
        "id": "br3MZgTttBU6",
        "outputId": "23392e84-dfc7-4100-a1bb-874628b86a31"
      },
      "outputs": [
        {
          "output_type": "stream",
          "name": "stdout",
          "text": [
            "313/313 [==============================] - 1s 2ms/step\n",
            "(10000, 10)\n",
            "Shape of y_test: (10000,)\n"
          ]
        }
      ],
      "source": [
        "# Obtain mu, sigma, and z from the encoder\n",
        "mu, sigma, z = encoder_model.predict(x_test)\n",
        "print(mu.shape)\n",
        "print(\"Shape of y_test:\", y_test.shape)"
      ]
    },
    {
      "cell_type": "code",
      "execution_count": null,
      "metadata": {
        "colab": {
          "base_uri": "https://localhost:8080/"
        },
        "id": "pWwQThnY5Aer",
        "outputId": "bf871177-a866-44d8-e38e-e0be4dde3e10"
      },
      "outputs": [
        {
          "output_type": "stream",
          "name": "stdout",
          "text": [
            "313/313 [==============================] - 1s 2ms/step\n"
          ]
        }
      ],
      "source": [
        "# Can we reconstruct the image only using the decoder part? and only with z?\n",
        "reconstructed_images = decoder_model.predict(z)"
      ]
    },
    {
      "cell_type": "markdown",
      "metadata": {
        "id": "rE4dOg1H558M"
      },
      "source": [
        "**Reconstructed image using full model (VAE) and decoder model:**"
      ]
    },
    {
      "cell_type": "code",
      "execution_count": null,
      "metadata": {
        "colab": {
          "base_uri": "https://localhost:8080/",
          "height": 1000
        },
        "id": "9c11UJjM8O9E",
        "outputId": "39643ef8-c664-40e7-9232-9a9dfc3adc7e"
      },
      "outputs": [
        {
          "output_type": "stream",
          "name": "stdout",
          "text": [
            "1/1 [==============================] - 0s 161ms/step\n",
            "1/1 [==============================] - 0s 107ms/step\n",
            "1/1 [==============================] - 0s 45ms/step\n",
            "1/1 [==============================] - 0s 20ms/step\n",
            "1/1 [==============================] - 0s 21ms/step\n",
            "1/1 [==============================] - 0s 21ms/step\n",
            "1/1 [==============================] - 0s 17ms/step\n",
            "1/1 [==============================] - 0s 20ms/step\n",
            "1/1 [==============================] - 0s 22ms/step\n",
            "1/1 [==============================] - 0s 19ms/step\n",
            "1/1 [==============================] - 0s 23ms/step\n",
            "1/1 [==============================] - 0s 25ms/step\n",
            "1/1 [==============================] - 0s 25ms/step\n",
            "1/1 [==============================] - 0s 21ms/step\n",
            "1/1 [==============================] - 0s 20ms/step\n",
            "1/1 [==============================] - 0s 19ms/step\n",
            "1/1 [==============================] - 0s 21ms/step\n",
            "1/1 [==============================] - 0s 19ms/step\n",
            "1/1 [==============================] - 0s 21ms/step\n",
            "1/1 [==============================] - 0s 19ms/step\n",
            "1/1 [==============================] - 0s 22ms/step\n",
            "1/1 [==============================] - 0s 21ms/step\n",
            "1/1 [==============================] - 0s 21ms/step\n",
            "1/1 [==============================] - 0s 22ms/step\n",
            "1/1 [==============================] - 0s 29ms/step\n",
            "1/1 [==============================] - 0s 38ms/step\n",
            "1/1 [==============================] - 0s 31ms/step\n",
            "1/1 [==============================] - 0s 37ms/step\n",
            "1/1 [==============================] - 0s 33ms/step\n",
            "1/1 [==============================] - 0s 29ms/step\n"
          ]
        },
        {
          "output_type": "display_data",
          "data": {
            "text/plain": [
              "<Figure size 1800x600 with 30 Axes>"
            ],
            "image/png": "[encoded data removed]"
          },
          "metadata": {}
        }
      ],
      "source": [
        "num_digits = 10\n",
        "fig, axes = plt.subplots(3, num_digits, figsize=(18, 6), constrained_layout=True)\n",
        "\n",
        "for i in range(num_digits):\n",
        "\n",
        "    # Display original\n",
        "    ax = axes[0, i]\n",
        "    original_img = x_test[i].reshape(28, 28)\n",
        "    ax.imshow(original_img, cmap='gray', aspect='auto')\n",
        "    ax.get_xaxis().set_visible(False)\n",
        "    ax.get_yaxis().set_visible(False)\n",
        "    ax.set_title(f\"Original {i}\")\n",
        "\n",
        "    # Display reconstruction from VAE (encoder+decoder) model\n",
        "    ax = axes[1, i]\n",
        "    reconstructed_img_vae = final_vae_model.predict(x_test[i].reshape(1, 28, 28, 1))\n",
        "    ax.imshow(reconstructed_img_vae.reshape(28, 28), cmap='gray', aspect='auto')\n",
        "    ax.get_xaxis().set_visible(False)\n",
        "    ax.get_yaxis().set_visible(False)\n",
        "    ax.set_title(f\"VAE Recon {i}\")\n",
        "\n",
        "    # Display reconstruction from only decoder model\n",
        "    ax = axes[2, i]\n",
        "    mu, sigma, z = encoder_model.predict(x_test[i].reshape(1, 28, 28, 1))\n",
        "    reconstructed_img_decoder = decoder_model.predict(z)\n",
        "    ax.imshow(reconstructed_img_decoder.reshape(28, 28), cmap='gray', aspect='auto')\n",
        "    ax.get_xaxis().set_visible(False)\n",
        "    ax.get_yaxis().set_visible(False)\n",
        "    ax.set_title(f\"Decoder Recon {i}\")\n",
        "\n",
        "plt.suptitle(\"Comparing original and reconstructed images\", fontsize=16)\n",
        "fig.text(0.5, 0.04, 'Image Index', ha='center', va='center')\n",
        "fig.text(0.06, 0.5, 'Image Type', ha='center', va='center', rotation='vertical')\n",
        "\n",
        "plt.show()\n"
      ]
    },
    {
      "cell_type": "code",
      "execution_count": null,
      "metadata": {
        "colab": {
          "base_uri": "https://localhost:8080/",
          "height": 564
        },
        "id": "mULRQVx0FTLs",
        "outputId": "02ed84c0-4c96-49d1-e3ab-da65db4bc319"
      },
      "outputs": [
        {
          "output_type": "display_data",
          "data": {
            "text/plain": [
              "<Figure size 800x600 with 1 Axes>"
            ],
            "image/png": "[encoded data removed]"
          },
          "metadata": {}
        }
      ],
      "source": [
        "# plot training and validation losses\n",
        "plt.figure(figsize=(8, 6))\n",
        "plt.plot(history.history['loss'], label='Training Loss')\n",
        "plt.plot(history.history['val_loss'], label='Validation Loss')\n",
        "plt.title('Training and Validation Losses')\n",
        "plt.xlabel('Epochs')\n",
        "plt.ylabel('Loss')\n",
        "plt.legend()\n",
        "plt.grid(True)\n",
        "plt.show()\n"
      ]
    }
  ],
  "metadata": {
    "accelerator": "GPU",
    "colab": {
      "provenance": [],
      "gpuType": "T4",
      "authorship_tag": "ABX9TyPRyjuOcsjyixV2gJOE1cOW",
      "include_colab_link": true
    },
    "kernelspec": {
      "display_name": "Python 3",
      "name": "python3"
    },
    "language_info": {
      "name": "python"
    }
  },
  "nbformat": 4,
  "nbformat_minor": 0
}